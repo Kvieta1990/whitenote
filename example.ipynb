{
 "cells": [
  {
   "cell_type": "code",
   "execution_count": 1,
   "id": "c3be2c8f-683a-4f30-8783-63477b1dac24",
   "metadata": {},
   "outputs": [
    {
     "name": "stdout",
     "output_type": "stream",
     "text": [
      "Hello!"
     ]
    }
   ],
   "source": [
    "Say hello.  \t  \t   \n",
    "\t\n",
    "     \t\t  \t \t\n",
    "\t\n",
    "     \t\t \t\t  \n",
    " \n",
    " \t\n",
    "  \t\n",
    "     \t\t \t\t\t\t\n",
    "\t\n",
    "     \t    \t\n",
    "\t\n",
    "  "
   ]
  }
 ],
 "metadata": {
  "kernelspec": {
   "display_name": "Whitespace",
   "language": "whitespace",
   "name": "whitenote"
  },
  "language_info": {
   "codemirror_mode": "",
   "file_extension": ".ws",
   "mimetype": "text/x-whitespace",
   "name": "whitespace",
   "nbconvert_exporter": "",
   "pygments_lexer": "",
   "version": "0.1"
  }
 },
 "nbformat": 4,
 "nbformat_minor": 5
}
